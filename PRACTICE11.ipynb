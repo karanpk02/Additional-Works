{
  "nbformat": 4,
  "nbformat_minor": 0,
  "metadata": {
    "colab": {
      "name": "PRACTICE11.ipynb",
      "provenance": [],
      "authorship_tag": "ABX9TyPFljftIBUJFdLmXW6jxtpA",
      "include_colab_link": true
    },
    "kernelspec": {
      "name": "python3",
      "display_name": "Python 3"
    },
    "language_info": {
      "name": "python"
    }
  },
  "cells": [
    {
      "cell_type": "markdown",
      "metadata": {
        "id": "view-in-github",
        "colab_type": "text"
      },
      "source": [
        "<a href=\"https://colab.research.google.com/github/karanpk02/Additional-Works/blob/main/PRACTICE11.ipynb\" target=\"_parent\"><img src=\"https://colab.research.google.com/assets/colab-badge.svg\" alt=\"Open In Colab\"/></a>"
      ]
    },
    {
      "cell_type": "markdown",
      "source": [
        "# Recursion\n",
        "-----------\n",
        "## 1. solving a problem in terms of smaller problems\n",
        "## 2. fucntion calling itself\n"
      ],
      "metadata": {
        "id": "EH4_Kd2M0iUG"
      }
    },
    {
      "cell_type": "markdown",
      "source": [
        "##Write a Python program to calculate the sum of a list of numbers.\n",
        "------  ------ ------- -------"
      ],
      "metadata": {
        "id": "0TLX_9Pa0S8C"
      }
    },
    {
      "cell_type": "code",
      "source": [
        "a=[1,2,3,4,6,7,8]\n",
        "t=0\n",
        "for i in range(0,len(a)): \n",
        "  t=t+a[i]\n",
        "print(t)"
      ],
      "metadata": {
        "colab": {
          "base_uri": "https://localhost:8080/"
        },
        "id": "52kR_5g08PBV",
        "outputId": "11e41c87-765f-46c7-a838-e6ca84984938"
      },
      "execution_count": null,
      "outputs": [
        {
          "output_type": "stream",
          "name": "stdout",
          "text": [
            "31\n"
          ]
        }
      ]
    },
    {
      "cell_type": "markdown",
      "source": [
        "\n",
        "> ## (1) for i in range(0,len(a)) that is i=0,1,2,3,4,5,6\n",
        "> ### in the first step i=0, a[0]=1 and new t = 0+1=1\n",
        "> ### in the second step i=1, a[1]=2 and new t = 1+2=3 and so on finally we get full total."
      ],
      "metadata": {
        "id": "xbavAAL9FOCq"
      }
    },
    {
      "cell_type": "code",
      "source": [
        "#notation meaning\n",
        "a=[1,2,3,4,6,7,8]\n",
        "b= a[1:]\n",
        "c= b[1:]\n",
        "d= c[1:]\n",
        "print(b)\n",
        "print(c)\n",
        "print(d)\n"
      ],
      "metadata": {
        "colab": {
          "base_uri": "https://localhost:8080/"
        },
        "id": "uaC74IJa_8HA",
        "outputId": "6c991157-2592-4e01-8339-996770803eed"
      },
      "execution_count": null,
      "outputs": [
        {
          "output_type": "stream",
          "name": "stdout",
          "text": [
            "[2, 3, 4, 6, 7, 8]\n",
            "[3, 4, 6, 7, 8]\n",
            "[4, 6, 7, 8]\n"
          ]
        }
      ]
    },
    {
      "cell_type": "code",
      "source": [
        "a=[1,2,3,4,6,7,8]\n",
        "def sum(a):\n",
        "  if len(a)==1:\n",
        "     return a[0]\n",
        "  else:\n",
        "    return a[0]+ sum(a[1:])   \n",
        "print(sum(a))   \n",
        "       "
      ],
      "metadata": {
        "colab": {
          "base_uri": "https://localhost:8080/"
        },
        "id": "q9JbKFTECLEz",
        "outputId": "968c5b51-a1f2-4f71-f9fe-be24b2c61d7d"
      },
      "execution_count": null,
      "outputs": [
        {
          "output_type": "stream",
          "name": "stdout",
          "text": [
            "31\n"
          ]
        }
      ]
    },
    {
      "cell_type": "markdown",
      "source": [
        "## In this recursion similarly len(a)=6\n",
        "> ### Here suppose a is a one element list then len(a)=1 and we return a[0].\n",
        "> ### Or len(a)>=1 or we add a[0] and apply sum on remaining set of elements until it become single element list .\n",
        "> ### that is it look like a[0]+a[1]+...+a[6] in 6'th iteration."
      ],
      "metadata": {
        "id": "ZaYFMf15HOVl"
      }
    },
    {
      "cell_type": "markdown",
      "source": [
        "## Write a Python program of recursion list sum\n",
        "--------------------------------------------------"
      ],
      "metadata": {
        "id": "nubfiOXJc96k"
      }
    },
    {
      "cell_type": "code",
      "source": [
        "def lsum(a):\n",
        "\tt = 0\n",
        "\tfor i in a:\n",
        "\t\tif type(i) == type([]):\n",
        "\t\t\tt = t + lsum(i)\n",
        "\t\telse:\n",
        "\t\t\tt = t + i\n",
        "\n",
        "\treturn t\n",
        "print( lsum([1, 2, [3,4],[5,6,[7,8]]]))\n",
        "\n"
      ],
      "metadata": {
        "colab": {
          "base_uri": "https://localhost:8080/"
        },
        "id": "EZ65I0HO49EY",
        "outputId": "e1539714-0b26-4c9e-dd86-5e617dc184f5"
      },
      "execution_count": null,
      "outputs": [
        {
          "output_type": "stream",
          "name": "stdout",
          "text": [
            "36\n"
          ]
        }
      ]
    },
    {
      "cell_type": "markdown",
      "source": [
        "## Write a Python program to get the factorial of a non-negative integer\n",
        "------------------------------------------------------------------------"
      ],
      "metadata": {
        "id": "2LqeMlVBCTcv"
      }
    },
    {
      "cell_type": "code",
      "source": [
        "def factorial(n):\n",
        "  if n <= 1:\n",
        "    return 1\n",
        "  else:\n",
        "    return n*factorial(n-1)\n",
        "print(factorial(4))    "
      ],
      "metadata": {
        "colab": {
          "base_uri": "https://localhost:8080/"
        },
        "id": "TFMyTaWlCYmH",
        "outputId": "0fa6c171-e1ad-43a4-c5e6-355c589bed88"
      },
      "execution_count": null,
      "outputs": [
        {
          "output_type": "stream",
          "name": "stdout",
          "text": [
            "24\n"
          ]
        }
      ]
    },
    {
      "cell_type": "markdown",
      "source": [
        "## Write a Python program to solve the Fibonacci sequence using recursion.\n",
        "-----------------------------------------------------------------------------\n",
        "The Fibonacci numbers may be defined by the recurrence relation\n",
        "  ${\\displaystyle F_{0}=0,\\quad F_{1}=1,}$ \\\\\n",
        "\n",
        "and ${\\displaystyle F_{n}=F_{n-1}+F_{n-2}}$\n",
        "${\\displaystyle F_{n}=F_{n-1}+F_{n-2}}$\n",
        "for $n > 1. $\n",
        "\n",
        "![my ima](data:image/png;base64,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)"
      ],
      "metadata": {
        "id": "D8-xxM_jCqR-"
      }
    },
    {
      "cell_type": "code",
      "source": [
        "n=int(input())\n",
        "def fib(n):\n",
        "  if n==0:\n",
        "    return 0\n",
        "  elif n==1 or n==2:\n",
        "    return 1\n",
        "  else:\n",
        "    return fib(n-1)+fib(n-2)    \n",
        "print(fib(n))    "
      ],
      "metadata": {
        "colab": {
          "base_uri": "https://localhost:8080/"
        },
        "id": "7TpXQJ_INJ95",
        "outputId": "3f933e21-9357-493e-e072-b3ba1e516716"
      },
      "execution_count": null,
      "outputs": [
        {
          "output_type": "stream",
          "name": "stdout",
          "text": [
            "7\n",
            "13\n"
          ]
        }
      ]
    },
    {
      "cell_type": "markdown",
      "source": [
        "# Write a Python program to get the sum of digits of a non-negative integer.\n",
        "--------------------------------------------------------------------------"
      ],
      "metadata": {
        "id": "Wj_4eUnvPSMo"
      }
    },
    {
      "cell_type": "code",
      "source": [
        "# Remember these operations\n",
        "n = int(input())\n",
        "a= n%10\n",
        "b= int(n/10)\n",
        "print(a)\n",
        "print(b)\n"
      ],
      "metadata": {
        "colab": {
          "base_uri": "https://localhost:8080/"
        },
        "id": "bkVR5u4dRS87",
        "outputId": "e4dba149-1164-416c-cfc3-147262c173e4"
      },
      "execution_count": null,
      "outputs": [
        {
          "output_type": "stream",
          "name": "stdout",
          "text": [
            "321\n",
            "1\n",
            "32\n",
            "3\n"
          ]
        }
      ]
    },
    {
      "cell_type": "code",
      "source": [
        "n=int(input())\n",
        "def sumdig(n):\n",
        "  if n==0:\n",
        "    return 0\n",
        "  else:\n",
        "    return n%10 + sumdig(int(n/10))\n",
        "print(sumdig(n))      "
      ],
      "metadata": {
        "colab": {
          "base_uri": "https://localhost:8080/"
        },
        "id": "AxMlkmp5Q4VO",
        "outputId": "fcbf123b-6001-4bb0-8bdb-c10a32d79848"
      },
      "execution_count": null,
      "outputs": [
        {
          "output_type": "stream",
          "name": "stdout",
          "text": [
            "123\n",
            "6\n"
          ]
        }
      ]
    },
    {
      "cell_type": "markdown",
      "source": [
        "##Write a Python program to calculate the sum of the positive integers of n+(n-2)+(n-4)... (until n-x =< 0).\n",
        "------------------------------------------"
      ],
      "metadata": {
        "id": "rOgL8mjPT41j"
      }
    },
    {
      "cell_type": "code",
      "source": [
        "n=int(input())\n",
        "def sum_series(n):\n",
        "  if n<1:\n",
        "    return 0\n",
        "  else:\n",
        "    return n + sum_series(n-2)\n",
        "print(sum_series(n))    \n"
      ],
      "metadata": {
        "colab": {
          "base_uri": "https://localhost:8080/"
        },
        "id": "AKrS-UQ1UJsA",
        "outputId": "cfec83aa-9fba-462a-f2b1-dcba103751dc"
      },
      "execution_count": null,
      "outputs": [
        {
          "output_type": "stream",
          "name": "stdout",
          "text": [
            "3\n",
            "4\n"
          ]
        }
      ]
    },
    {
      "cell_type": "markdown",
      "source": [
        "#Write a Python program to calculate the harmonic sum of n-1. \n",
        "-----------------------------------------------------------"
      ],
      "metadata": {
        "id": "6EMCm5FDYYXI"
      }
    },
    {
      "cell_type": "markdown",
      "source": [
        "##In finite sum series,\n",
        ">### take n=int(input())\n",
        ">### def sum_series(n):\n",
        ">### if n<2or1:\n",
        ">### return 0or1\n",
        ">### else:\n",
        ">### return (nth term)+ sum_series(n-1)\n",
        ">### print(sum_series(n))"
      ],
      "metadata": {
        "id": "Z4ZtrSGTcE8H"
      }
    },
    {
      "cell_type": "code",
      "source": [
        "n=int(input())\n",
        "def sum_series(n):\n",
        "   if n<2:\n",
        "     return 1\n",
        "   else:\n",
        "     return (1/n) + sum_series(n-1)\n",
        "print(sum_series(n))        \n",
        " \n"
      ],
      "metadata": {
        "colab": {
          "base_uri": "https://localhost:8080/"
        },
        "id": "-AYf_JSsdoRR",
        "outputId": "f93db460-65db-4b2c-a38c-28b3962f41fd"
      },
      "execution_count": null,
      "outputs": [
        {
          "output_type": "stream",
          "name": "stdout",
          "text": [
            "100\n",
            "5.187377517639621\n"
          ]
        }
      ]
    },
    {
      "cell_type": "markdown",
      "source": [
        "##Write a Python program to calculate the value of 'a' to the power 'b'. \n",
        "________________________________________________________________________"
      ],
      "metadata": {
        "id": "Vg7XK4nUez6H"
      }
    },
    {
      "cell_type": "code",
      "source": [
        "a, b in list(map(int, input().split(\" \")))\n",
        "def power(a,b):\n",
        "  if b==0:\n",
        "    return 1\n",
        "  elif a==1:\n",
        "    return 1\n",
        "  elif b==1:\n",
        "    return a\n",
        "  else:\n",
        "    return a*power(a,b-1)\n",
        "print(power(a,b))          "
      ],
      "metadata": {
        "colab": {
          "base_uri": "https://localhost:8080/"
        },
        "id": "2lU2ORTaMavP",
        "outputId": "1487eab7-81b7-40e7-a120-8c9e40e6d06e"
      },
      "execution_count": null,
      "outputs": [
        {
          "output_type": "stream",
          "name": "stdout",
          "text": [
            "2 3\n",
            "8\n"
          ]
        }
      ]
    },
    {
      "cell_type": "markdown",
      "source": [
        "##Problem: Given a sorted array arr[ ] of n elements, write a function to search a given element x in arr[ ].\n",
        "------------------------------------------------------------------------------------------------------------"
      ],
      "metadata": {
        "id": "P_ygSNLhhCGC"
      }
    },
    {
      "cell_type": "markdown",
      "source": [
        "###Binary Search Algorithm: The basic steps to perform Binary Search are:\n",
        "\n",
        ">#### Begin with an interval covering the whole array.\n",
        ">#### If the value of the search key is less than the item in the middle of the interval, narrow the interval to the lower half.\n",
        ">#### Otherwise, narrow it to the upper half.\n",
        ">#### Repeatedly check until the value is found or the interval is empty."
      ],
      "metadata": {
        "id": "UqtKC90nhMxd"
      }
    },
    {
      "cell_type": "markdown",
      "source": [
        "###Step-by-step Binary Search Algorithm: We basically ignore half of the elements just after one comparison.\n",
        "\n",
        ">#### Compare x with the middle element.\n",
        ">#### If x matches with the middle element, we return the mid index.\n",
        ">#### Else If x is greater than the mid element, then x can only lie in the right half subarray after the mid element. So we recur for the right half.\n",
        ">#### Else (x is smaller) recur for the left half."
      ],
      "metadata": {
        "id": "sQjq5Xu_hsw9"
      }
    },
    {
      "cell_type": "code",
      "source": [
        "def bin_sea(array,x,l,r):\n",
        "  if r>=l:\n",
        "    mid = (r+l)//2\n",
        "    if array[mid]==x:\n",
        "      return x\n",
        "    elif array[mid] < x:\n",
        "      return bin_sea(array,x,l,mid-1)\n",
        "    elif array[mid] > x:\n",
        "      return bin_sea(array,x,mid+1,r)  \n",
        "  else:\n",
        "     return -1\n",
        "array = [i for i in range(1,1000)]\n",
        "x=int(input())   \n",
        "l= 0 #int(input())\n",
        "r= len(array)-1 #int(input())        \n",
        "print(bin_sea(array,x,l,r))     \n",
        "      \n",
        "\n",
        "\n",
        "\n"
      ],
      "metadata": {
        "colab": {
          "base_uri": "https://localhost:8080/"
        },
        "id": "GJIx1-bPiNvp",
        "outputId": "f0e8103b-9b3e-4d47-f42f-339862f363ed"
      },
      "execution_count": null,
      "outputs": [
        {
          "output_type": "stream",
          "name": "stdout",
          "text": [
            "366\n",
            "-1\n"
          ]
        }
      ]
    },
    {
      "cell_type": "code",
      "source": [
        "# Python3 Program for recursive binary search.\n",
        "\n",
        "# Returns index of x in arr if present, else -1\n",
        "\n",
        "\n",
        "def binarySearch(arr, l, r, x):\n",
        "\n",
        "\t# Check base case\n",
        "\tif r >= l:\n",
        "\n",
        "\t\tmid = l + (r - l) // 2\n",
        "\n",
        "\t\t# If element is present at the middle itself\n",
        "\t\tif arr[mid] == x:\n",
        "\t\t\treturn mid\n",
        "\n",
        "\t\t# If element is smaller than mid, then it\n",
        "\t\t# can only be present in left subarray\n",
        "\t\telif arr[mid] > x:\n",
        "\t\t\treturn binarySearch(arr, l, mid-1, x)\n",
        "\n",
        "\t\t# Else the element can only be present\n",
        "\t\t# in right subarray\n",
        "\t\telse:\n",
        "\t\t\treturn binarySearch(arr, mid + 1, r, x)\n",
        "\n",
        "\telse:\n",
        "\t\t# Element is not present in the array\n",
        "\t\treturn -1\n",
        "\n",
        "\n",
        "# Driver Code\n",
        "arr = [2, 3, 4, 10, 40]\n",
        "x = 10\n",
        "\n",
        "# Function call\n",
        "result = binarySearch(arr, 0, len(arr)-1, x)\n",
        "\n",
        "if result != -1:\n",
        "\tprint(\"Element is present at index % d\" % result)\n",
        "else:\n",
        "\tprint(\"Element is not present in array\")\n"
      ],
      "metadata": {
        "colab": {
          "base_uri": "https://localhost:8080/"
        },
        "id": "t8fLcc0pjkyO",
        "outputId": "134d2539-5f60-421b-a2fa-040163d4cdc4"
      },
      "execution_count": null,
      "outputs": [
        {
          "output_type": "stream",
          "name": "stdout",
          "text": [
            "Element is present at index  3\n"
          ]
        }
      ]
    }
  ]
}